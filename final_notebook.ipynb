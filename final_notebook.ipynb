{
 "cells": [
  {
   "cell_type": "markdown",
   "metadata": {},
   "source": [
    "# MARKETING CAMPAIGN PERFORMANCE ANALYSIS"
   ]
  },
  {
   "cell_type": "markdown",
   "metadata": {},
   "source": []
  },
  {
   "cell_type": "code",
   "execution_count": 1,
   "metadata": {},
   "outputs": [],
   "source": [
    "import pandas as pd\n",
    "import matplotlib.pyplot as plt\n",
    "import seaborn as sns"
   ]
  },
  {
   "cell_type": "markdown",
   "metadata": {},
   "source": [
    "## DATA UNDERSTANDING"
   ]
  },
  {
   "cell_type": "markdown",
   "metadata": {},
   "source": [
    "The dataset used for this analysis is the Marketing Campaign Dataset, which contains information about various marketing campaigns across multiple channels, target audiences, and locations. The dataset includes performance metrics such as click-through rate (CTR), cost per click (CPC), conversion rate, and ROI. "
   ]
  },
  {
   "cell_type": "code",
   "execution_count": null,
   "metadata": {},
   "outputs": [],
   "source": [
    "#Load the dataset\n",
    "df = pd.read_excel('marketing_campaign_dataset.xlsx')"
   ]
  },
  {
   "cell_type": "code",
   "execution_count": null,
   "metadata": {},
   "outputs": [
    {
     "data": {
      "text/html": [
       "<div>\n",
       "<style scoped>\n",
       "    .dataframe tbody tr th:only-of-type {\n",
       "        vertical-align: middle;\n",
       "    }\n",
       "\n",
       "    .dataframe tbody tr th {\n",
       "        vertical-align: top;\n",
       "    }\n",
       "\n",
       "    .dataframe thead th {\n",
       "        text-align: right;\n",
       "    }\n",
       "</style>\n",
       "<table border=\"1\" class=\"dataframe\">\n",
       "  <thead>\n",
       "    <tr style=\"text-align: right;\">\n",
       "      <th></th>\n",
       "      <th>Campaign_ID</th>\n",
       "      <th>Company</th>\n",
       "      <th>Campaign_Type</th>\n",
       "      <th>Target_Audience</th>\n",
       "      <th>Duration</th>\n",
       "      <th>Channel_Used</th>\n",
       "      <th>Conversion_Rate</th>\n",
       "      <th>Acquisition_Cost</th>\n",
       "      <th>ROI</th>\n",
       "      <th>Location</th>\n",
       "      <th>Date</th>\n",
       "      <th>Clicks</th>\n",
       "      <th>Impressions</th>\n",
       "      <th>Engagement_Score</th>\n",
       "      <th>Customer_Segment</th>\n",
       "    </tr>\n",
       "  </thead>\n",
       "  <tbody>\n",
       "    <tr>\n",
       "      <th>0</th>\n",
       "      <td>1</td>\n",
       "      <td>Innovate Industries</td>\n",
       "      <td>Email</td>\n",
       "      <td>Men 18-24</td>\n",
       "      <td>30 days</td>\n",
       "      <td>Google Ads</td>\n",
       "      <td>0.04</td>\n",
       "      <td>16174</td>\n",
       "      <td>6.29</td>\n",
       "      <td>Chicago</td>\n",
       "      <td>2021-01-01 00:00:00</td>\n",
       "      <td>506</td>\n",
       "      <td>1922</td>\n",
       "      <td>6</td>\n",
       "      <td>Health &amp; Wellness</td>\n",
       "    </tr>\n",
       "    <tr>\n",
       "      <th>1</th>\n",
       "      <td>2</td>\n",
       "      <td>NexGen Systems</td>\n",
       "      <td>Email</td>\n",
       "      <td>Women 35-44</td>\n",
       "      <td>60 days</td>\n",
       "      <td>Google Ads</td>\n",
       "      <td>0.12</td>\n",
       "      <td>11566</td>\n",
       "      <td>5.61</td>\n",
       "      <td>New York</td>\n",
       "      <td>2021-02-01 00:00:00</td>\n",
       "      <td>116</td>\n",
       "      <td>7523</td>\n",
       "      <td>7</td>\n",
       "      <td>Fashionistas</td>\n",
       "    </tr>\n",
       "    <tr>\n",
       "      <th>2</th>\n",
       "      <td>3</td>\n",
       "      <td>Alpha Innovations</td>\n",
       "      <td>Influencer</td>\n",
       "      <td>Men 25-34</td>\n",
       "      <td>30 days</td>\n",
       "      <td>YouTube</td>\n",
       "      <td>0.07</td>\n",
       "      <td>10200</td>\n",
       "      <td>7.18</td>\n",
       "      <td>Los Angeles</td>\n",
       "      <td>2021-03-01 00:00:00</td>\n",
       "      <td>584</td>\n",
       "      <td>7698</td>\n",
       "      <td>1</td>\n",
       "      <td>Outdoor Adventurers</td>\n",
       "    </tr>\n",
       "    <tr>\n",
       "      <th>3</th>\n",
       "      <td>4</td>\n",
       "      <td>DataTech Solutions</td>\n",
       "      <td>Display</td>\n",
       "      <td>All Ages</td>\n",
       "      <td>60 days</td>\n",
       "      <td>YouTube</td>\n",
       "      <td>0.11</td>\n",
       "      <td>12724</td>\n",
       "      <td>5.55</td>\n",
       "      <td>Miami</td>\n",
       "      <td>2021-04-01 00:00:00</td>\n",
       "      <td>217</td>\n",
       "      <td>1820</td>\n",
       "      <td>7</td>\n",
       "      <td>Health &amp; Wellness</td>\n",
       "    </tr>\n",
       "    <tr>\n",
       "      <th>4</th>\n",
       "      <td>5</td>\n",
       "      <td>NexGen Systems</td>\n",
       "      <td>Email</td>\n",
       "      <td>Men 25-34</td>\n",
       "      <td>15 days</td>\n",
       "      <td>YouTube</td>\n",
       "      <td>0.05</td>\n",
       "      <td>16452</td>\n",
       "      <td>6.50</td>\n",
       "      <td>Los Angeles</td>\n",
       "      <td>2021-05-01 00:00:00</td>\n",
       "      <td>379</td>\n",
       "      <td>4201</td>\n",
       "      <td>3</td>\n",
       "      <td>Health &amp; Wellness</td>\n",
       "    </tr>\n",
       "  </tbody>\n",
       "</table>\n",
       "</div>"
      ],
      "text/plain": [
       "   Campaign_ID              Company Campaign_Type Target_Audience Duration  \\\n",
       "0            1  Innovate Industries         Email       Men 18-24  30 days   \n",
       "1            2       NexGen Systems         Email     Women 35-44  60 days   \n",
       "2            3    Alpha Innovations    Influencer       Men 25-34  30 days   \n",
       "3            4   DataTech Solutions       Display        All Ages  60 days   \n",
       "4            5       NexGen Systems         Email       Men 25-34  15 days   \n",
       "\n",
       "  Channel_Used  Conversion_Rate  Acquisition_Cost   ROI     Location  \\\n",
       "0   Google Ads             0.04             16174  6.29      Chicago   \n",
       "1   Google Ads             0.12             11566  5.61     New York   \n",
       "2      YouTube             0.07             10200  7.18  Los Angeles   \n",
       "3      YouTube             0.11             12724  5.55        Miami   \n",
       "4      YouTube             0.05             16452  6.50  Los Angeles   \n",
       "\n",
       "                  Date  Clicks  Impressions  Engagement_Score  \\\n",
       "0  2021-01-01 00:00:00     506         1922                 6   \n",
       "1  2021-02-01 00:00:00     116         7523                 7   \n",
       "2  2021-03-01 00:00:00     584         7698                 1   \n",
       "3  2021-04-01 00:00:00     217         1820                 7   \n",
       "4  2021-05-01 00:00:00     379         4201                 3   \n",
       "\n",
       "      Customer_Segment  \n",
       "0    Health & Wellness  \n",
       "1         Fashionistas  \n",
       "2  Outdoor Adventurers  \n",
       "3    Health & Wellness  \n",
       "4    Health & Wellness  "
      ]
     },
     "execution_count": 3,
     "metadata": {},
     "output_type": "execute_result"
    }
   ],
   "source": [
    "# dataset preview\n",
    "df.head()"
   ]
  },
  {
   "cell_type": "markdown",
   "metadata": {},
   "source": [
    "\n",
    "The dataset consists of the following key variables:  \n",
    "\n",
    "`Campaign_ID:` Unique identifier for each campaign. \n",
    "\n",
    "`Company:` Name of the company running the campaign. \n",
    "\n",
    "`Campaign_Type:` Type of marketing campaign (Email, Influencer, Display, etc.). \n",
    "\n",
    "`Target_Audience:` Demographic group targeted by the campaign. \n",
    "\n",
    "`Duration:` Length of the campaign. \n",
    "\n",
    "`Channel_Used:` The platform where the campaign was run (Google Ads, YouTube, etc.). \n",
    "\n",
    "`Conversion_Rate:` Percentage of users who converted after engaging with the campaign. \n",
    "\n",
    "`Acquisition_Cost:` Cost incurred to acquire a customer. \n",
    "\n",
    "`ROI:` Return on investment for the campaign. \n",
    "\n",
    "`Location:` Geographic location where the campaign was run. \n",
    "\n",
    "`Date:` Date of the campaign. \n",
    "\n",
    "`Clicks:` Number of clicks the campaign received. \n",
    "\n",
    "`Impressions:` Number of times the campaign was viewed. \n",
    "\n",
    "`Engagement_Score:` A numerical score representing user engagement with the campaign. \n",
    "\n",
    "`Customer_Segment:` The market segment targeted by the campaign. "
   ]
  },
  {
   "cell_type": "code",
   "execution_count": null,
   "metadata": {},
   "outputs": [],
   "source": [
    "# Convert 'Date' column to datetime format\n",
    "df['Date'] = pd.to_datetime(df['Date'], dayfirst=True)\n"
   ]
  },
  {
   "cell_type": "code",
   "execution_count": null,
   "metadata": {},
   "outputs": [
    {
     "data": {
      "text/html": [
       "<div>\n",
       "<style scoped>\n",
       "    .dataframe tbody tr th:only-of-type {\n",
       "        vertical-align: middle;\n",
       "    }\n",
       "\n",
       "    .dataframe tbody tr th {\n",
       "        vertical-align: top;\n",
       "    }\n",
       "\n",
       "    .dataframe thead th {\n",
       "        text-align: right;\n",
       "    }\n",
       "</style>\n",
       "<table border=\"1\" class=\"dataframe\">\n",
       "  <thead>\n",
       "    <tr style=\"text-align: right;\">\n",
       "      <th></th>\n",
       "      <th>Campaign_ID</th>\n",
       "      <th>Company</th>\n",
       "      <th>Campaign_Type</th>\n",
       "      <th>Target_Audience</th>\n",
       "      <th>Duration</th>\n",
       "      <th>Channel_Used</th>\n",
       "      <th>Conversion_Rate</th>\n",
       "      <th>Acquisition_Cost</th>\n",
       "      <th>ROI</th>\n",
       "      <th>Location</th>\n",
       "      <th>Date</th>\n",
       "      <th>Clicks</th>\n",
       "      <th>Impressions</th>\n",
       "      <th>Engagement_Score</th>\n",
       "      <th>Customer_Segment</th>\n",
       "    </tr>\n",
       "  </thead>\n",
       "  <tbody>\n",
       "    <tr>\n",
       "      <th>0</th>\n",
       "      <td>1</td>\n",
       "      <td>Innovate Industries</td>\n",
       "      <td>Email</td>\n",
       "      <td>Men 18-24</td>\n",
       "      <td>30 days</td>\n",
       "      <td>Google Ads</td>\n",
       "      <td>0.04</td>\n",
       "      <td>16174</td>\n",
       "      <td>6.29</td>\n",
       "      <td>Chicago</td>\n",
       "      <td>2021-01-01</td>\n",
       "      <td>506</td>\n",
       "      <td>1922</td>\n",
       "      <td>6</td>\n",
       "      <td>Health &amp; Wellness</td>\n",
       "    </tr>\n",
       "    <tr>\n",
       "      <th>1</th>\n",
       "      <td>2</td>\n",
       "      <td>NexGen Systems</td>\n",
       "      <td>Email</td>\n",
       "      <td>Women 35-44</td>\n",
       "      <td>60 days</td>\n",
       "      <td>Google Ads</td>\n",
       "      <td>0.12</td>\n",
       "      <td>11566</td>\n",
       "      <td>5.61</td>\n",
       "      <td>New York</td>\n",
       "      <td>2021-02-01</td>\n",
       "      <td>116</td>\n",
       "      <td>7523</td>\n",
       "      <td>7</td>\n",
       "      <td>Fashionistas</td>\n",
       "    </tr>\n",
       "    <tr>\n",
       "      <th>2</th>\n",
       "      <td>3</td>\n",
       "      <td>Alpha Innovations</td>\n",
       "      <td>Influencer</td>\n",
       "      <td>Men 25-34</td>\n",
       "      <td>30 days</td>\n",
       "      <td>YouTube</td>\n",
       "      <td>0.07</td>\n",
       "      <td>10200</td>\n",
       "      <td>7.18</td>\n",
       "      <td>Los Angeles</td>\n",
       "      <td>2021-03-01</td>\n",
       "      <td>584</td>\n",
       "      <td>7698</td>\n",
       "      <td>1</td>\n",
       "      <td>Outdoor Adventurers</td>\n",
       "    </tr>\n",
       "    <tr>\n",
       "      <th>3</th>\n",
       "      <td>4</td>\n",
       "      <td>DataTech Solutions</td>\n",
       "      <td>Display</td>\n",
       "      <td>All Ages</td>\n",
       "      <td>60 days</td>\n",
       "      <td>YouTube</td>\n",
       "      <td>0.11</td>\n",
       "      <td>12724</td>\n",
       "      <td>5.55</td>\n",
       "      <td>Miami</td>\n",
       "      <td>2021-04-01</td>\n",
       "      <td>217</td>\n",
       "      <td>1820</td>\n",
       "      <td>7</td>\n",
       "      <td>Health &amp; Wellness</td>\n",
       "    </tr>\n",
       "    <tr>\n",
       "      <th>4</th>\n",
       "      <td>5</td>\n",
       "      <td>NexGen Systems</td>\n",
       "      <td>Email</td>\n",
       "      <td>Men 25-34</td>\n",
       "      <td>15 days</td>\n",
       "      <td>YouTube</td>\n",
       "      <td>0.05</td>\n",
       "      <td>16452</td>\n",
       "      <td>6.50</td>\n",
       "      <td>Los Angeles</td>\n",
       "      <td>2021-05-01</td>\n",
       "      <td>379</td>\n",
       "      <td>4201</td>\n",
       "      <td>3</td>\n",
       "      <td>Health &amp; Wellness</td>\n",
       "    </tr>\n",
       "  </tbody>\n",
       "</table>\n",
       "</div>"
      ],
      "text/plain": [
       "   Campaign_ID              Company Campaign_Type Target_Audience Duration  \\\n",
       "0            1  Innovate Industries         Email       Men 18-24  30 days   \n",
       "1            2       NexGen Systems         Email     Women 35-44  60 days   \n",
       "2            3    Alpha Innovations    Influencer       Men 25-34  30 days   \n",
       "3            4   DataTech Solutions       Display        All Ages  60 days   \n",
       "4            5       NexGen Systems         Email       Men 25-34  15 days   \n",
       "\n",
       "  Channel_Used  Conversion_Rate  Acquisition_Cost   ROI     Location  \\\n",
       "0   Google Ads             0.04             16174  6.29      Chicago   \n",
       "1   Google Ads             0.12             11566  5.61     New York   \n",
       "2      YouTube             0.07             10200  7.18  Los Angeles   \n",
       "3      YouTube             0.11             12724  5.55        Miami   \n",
       "4      YouTube             0.05             16452  6.50  Los Angeles   \n",
       "\n",
       "        Date  Clicks  Impressions  Engagement_Score     Customer_Segment  \n",
       "0 2021-01-01     506         1922                 6    Health & Wellness  \n",
       "1 2021-02-01     116         7523                 7         Fashionistas  \n",
       "2 2021-03-01     584         7698                 1  Outdoor Adventurers  \n",
       "3 2021-04-01     217         1820                 7    Health & Wellness  \n",
       "4 2021-05-01     379         4201                 3    Health & Wellness  "
      ]
     },
     "execution_count": 10,
     "metadata": {},
     "output_type": "execute_result"
    }
   ],
   "source": [
    "df.head()"
   ]
  },
  {
   "cell_type": "code",
   "execution_count": null,
   "metadata": {},
   "outputs": [
    {
     "name": "stdout",
     "output_type": "stream",
     "text": [
      "<class 'pandas.core.frame.DataFrame'>\n",
      "RangeIndex: 200005 entries, 0 to 200004\n",
      "Data columns (total 15 columns):\n",
      " #   Column            Non-Null Count   Dtype         \n",
      "---  ------            --------------   -----         \n",
      " 0   Campaign_ID       200005 non-null  int64         \n",
      " 1   Company           200005 non-null  object        \n",
      " 2   Campaign_Type     200005 non-null  object        \n",
      " 3   Target_Audience   200005 non-null  object        \n",
      " 4   Duration          200005 non-null  object        \n",
      " 5   Channel_Used      200005 non-null  object        \n",
      " 6   Conversion_Rate   200005 non-null  float64       \n",
      " 7   Acquisition_Cost  200005 non-null  int64         \n",
      " 8   ROI               200005 non-null  float64       \n",
      " 9   Location          200005 non-null  object        \n",
      " 10  Date              200005 non-null  datetime64[ns]\n",
      " 11  Clicks            200005 non-null  int64         \n",
      " 12  Impressions       200005 non-null  int64         \n",
      " 13  Engagement_Score  200005 non-null  int64         \n",
      " 14  Customer_Segment  200005 non-null  object        \n",
      "dtypes: datetime64[ns](1), float64(2), int64(5), object(7)\n",
      "memory usage: 22.9+ MB\n"
     ]
    }
   ],
   "source": [
    "df.info()"
   ]
  },
  {
   "cell_type": "code",
   "execution_count": null,
   "metadata": {},
   "outputs": [
    {
     "data": {
      "text/plain": [
       "(200005, 15)"
      ]
     },
     "execution_count": 17,
     "metadata": {},
     "output_type": "execute_result"
    }
   ],
   "source": [
    "df.shape"
   ]
  },
  {
   "cell_type": "code",
   "execution_count": null,
   "metadata": {},
   "outputs": [
    {
     "data": {
      "text/plain": [
       "Campaign_ID                  int64\n",
       "Company                     object\n",
       "Campaign_Type               object\n",
       "Target_Audience             object\n",
       "Duration                    object\n",
       "Channel_Used                object\n",
       "Conversion_Rate            float64\n",
       "Acquisition_Cost             int64\n",
       "ROI                        float64\n",
       "Location                    object\n",
       "Date                datetime64[ns]\n",
       "Clicks                       int64\n",
       "Impressions                  int64\n",
       "Engagement_Score             int64\n",
       "Customer_Segment            object\n",
       "dtype: object"
      ]
     },
     "execution_count": 23,
     "metadata": {},
     "output_type": "execute_result"
    }
   ],
   "source": [
    "df.dtypes"
   ]
  },
  {
   "cell_type": "markdown",
   "metadata": {},
   "source": [
    "# DATA EXPLORATION"
   ]
  },
  {
   "cell_type": "code",
   "execution_count": null,
   "metadata": {},
   "outputs": [
    {
     "data": {
      "text/html": [
       "<div>\n",
       "<style scoped>\n",
       "    .dataframe tbody tr th:only-of-type {\n",
       "        vertical-align: middle;\n",
       "    }\n",
       "\n",
       "    .dataframe tbody tr th {\n",
       "        vertical-align: top;\n",
       "    }\n",
       "\n",
       "    .dataframe thead th {\n",
       "        text-align: right;\n",
       "    }\n",
       "</style>\n",
       "<table border=\"1\" class=\"dataframe\">\n",
       "  <thead>\n",
       "    <tr style=\"text-align: right;\">\n",
       "      <th></th>\n",
       "      <th>Campaign_ID</th>\n",
       "      <th>Conversion_Rate</th>\n",
       "      <th>Acquisition_Cost</th>\n",
       "      <th>ROI</th>\n",
       "      <th>Clicks</th>\n",
       "      <th>Impressions</th>\n",
       "      <th>Engagement_Score</th>\n",
       "    </tr>\n",
       "  </thead>\n",
       "  <tbody>\n",
       "    <tr>\n",
       "      <th>count</th>\n",
       "      <td>200005.000000</td>\n",
       "      <td>200005.000000</td>\n",
       "      <td>200005.000000</td>\n",
       "      <td>200005.000000</td>\n",
       "      <td>200005.000000</td>\n",
       "      <td>200005.000000</td>\n",
       "      <td>200005.000000</td>\n",
       "    </tr>\n",
       "    <tr>\n",
       "      <th>mean</th>\n",
       "      <td>100003.000000</td>\n",
       "      <td>0.080069</td>\n",
       "      <td>12504.441794</td>\n",
       "      <td>5.002416</td>\n",
       "      <td>549.774591</td>\n",
       "      <td>5507.307107</td>\n",
       "      <td>5.494673</td>\n",
       "    </tr>\n",
       "    <tr>\n",
       "      <th>std</th>\n",
       "      <td>57736.614632</td>\n",
       "      <td>0.040602</td>\n",
       "      <td>4337.663210</td>\n",
       "      <td>1.734485</td>\n",
       "      <td>260.019354</td>\n",
       "      <td>2596.863794</td>\n",
       "      <td>2.872593</td>\n",
       "    </tr>\n",
       "    <tr>\n",
       "      <th>min</th>\n",
       "      <td>1.000000</td>\n",
       "      <td>0.010000</td>\n",
       "      <td>5000.000000</td>\n",
       "      <td>2.000000</td>\n",
       "      <td>100.000000</td>\n",
       "      <td>1000.000000</td>\n",
       "      <td>1.000000</td>\n",
       "    </tr>\n",
       "    <tr>\n",
       "      <th>25%</th>\n",
       "      <td>50002.000000</td>\n",
       "      <td>0.050000</td>\n",
       "      <td>8740.000000</td>\n",
       "      <td>3.500000</td>\n",
       "      <td>325.000000</td>\n",
       "      <td>3266.000000</td>\n",
       "      <td>3.000000</td>\n",
       "    </tr>\n",
       "    <tr>\n",
       "      <th>50%</th>\n",
       "      <td>100003.000000</td>\n",
       "      <td>0.080000</td>\n",
       "      <td>12497.000000</td>\n",
       "      <td>5.010000</td>\n",
       "      <td>550.000000</td>\n",
       "      <td>5518.000000</td>\n",
       "      <td>5.000000</td>\n",
       "    </tr>\n",
       "    <tr>\n",
       "      <th>75%</th>\n",
       "      <td>150004.000000</td>\n",
       "      <td>0.120000</td>\n",
       "      <td>16264.000000</td>\n",
       "      <td>6.510000</td>\n",
       "      <td>775.000000</td>\n",
       "      <td>7753.000000</td>\n",
       "      <td>8.000000</td>\n",
       "    </tr>\n",
       "    <tr>\n",
       "      <th>max</th>\n",
       "      <td>200005.000000</td>\n",
       "      <td>0.150000</td>\n",
       "      <td>20000.000000</td>\n",
       "      <td>8.000000</td>\n",
       "      <td>1000.000000</td>\n",
       "      <td>10000.000000</td>\n",
       "      <td>10.000000</td>\n",
       "    </tr>\n",
       "  </tbody>\n",
       "</table>\n",
       "</div>"
      ],
      "text/plain": [
       "         Campaign_ID  Conversion_Rate  Acquisition_Cost            ROI  \\\n",
       "count  200005.000000    200005.000000     200005.000000  200005.000000   \n",
       "mean   100003.000000         0.080069      12504.441794       5.002416   \n",
       "std     57736.614632         0.040602       4337.663210       1.734485   \n",
       "min         1.000000         0.010000       5000.000000       2.000000   \n",
       "25%     50002.000000         0.050000       8740.000000       3.500000   \n",
       "50%    100003.000000         0.080000      12497.000000       5.010000   \n",
       "75%    150004.000000         0.120000      16264.000000       6.510000   \n",
       "max    200005.000000         0.150000      20000.000000       8.000000   \n",
       "\n",
       "              Clicks    Impressions  Engagement_Score  \n",
       "count  200005.000000  200005.000000     200005.000000  \n",
       "mean      549.774591    5507.307107          5.494673  \n",
       "std       260.019354    2596.863794          2.872593  \n",
       "min       100.000000    1000.000000          1.000000  \n",
       "25%       325.000000    3266.000000          3.000000  \n",
       "50%       550.000000    5518.000000          5.000000  \n",
       "75%       775.000000    7753.000000          8.000000  \n",
       "max      1000.000000   10000.000000         10.000000  "
      ]
     },
     "execution_count": 14,
     "metadata": {},
     "output_type": "execute_result"
    }
   ],
   "source": [
    "df.describe()"
   ]
  },
  {
   "cell_type": "code",
   "execution_count": null,
   "metadata": {},
   "outputs": [
    {
     "data": {
      "text/plain": [
       "Campaign_ID         0\n",
       "Company             0\n",
       "Campaign_Type       0\n",
       "Target_Audience     0\n",
       "Duration            0\n",
       "Channel_Used        0\n",
       "Conversion_Rate     0\n",
       "Acquisition_Cost    0\n",
       "ROI                 0\n",
       "Location            0\n",
       "Date                0\n",
       "Clicks              0\n",
       "Impressions         0\n",
       "Engagement_Score    0\n",
       "Customer_Segment    0\n",
       "dtype: int64"
      ]
     },
     "execution_count": 15,
     "metadata": {},
     "output_type": "execute_result"
    }
   ],
   "source": [
    "df.isnull().sum()"
   ]
  },
  {
   "cell_type": "code",
   "execution_count": null,
   "metadata": {},
   "outputs": [
    {
     "data": {
      "text/plain": [
       "0"
      ]
     },
     "execution_count": 16,
     "metadata": {},
     "output_type": "execute_result"
    }
   ],
   "source": [
    "df.duplicated().sum()"
   ]
  },
  {
   "cell_type": "code",
   "execution_count": null,
   "metadata": {},
   "outputs": [],
   "source": [
    "# Set plot style\n",
    "plt.style.use(\"seaborn-darkgrid\")"
   ]
  },
  {
   "cell_type": "code",
   "execution_count": null,
   "metadata": {},
   "outputs": [],
   "source": [
    "# Create subplots for outlier analysis\n",
    "fig, axes = plt.subplots(1, 3, figsize=(18, 5))"
   ]
  },
  {
   "cell_type": "markdown",
   "id": "a218c310",
   "metadata": {},
   "source": [
    "# Enhanced Exploratory Data Analysis (EDA)"
   ]
  },
  {
   "cell_type": "markdown",
   "id": "ee2cc0d0",
   "metadata": {},
   "source": [
    "## 1. Data Overview\n",
    "We begin by understanding the structure, types, and key metrics of the dataset."
   ]
  },
  {
   "cell_type": "code",
   "execution_count": null,
   "id": "bd2b456d",
   "metadata": {},
   "outputs": [],
   "source": [
    "df.info()"
   ]
  },
  {
   "cell_type": "code",
   "execution_count": null,
   "id": "60f64003",
   "metadata": {},
   "outputs": [],
   "source": [
    "df.describe()"
   ]
  },
  {
   "cell_type": "markdown",
   "id": "97d64306",
   "metadata": {},
   "source": [
    "## 2. Handling Missing Values\n",
    "Checking for missing values and handling them appropriately."
   ]
  },
  {
   "cell_type": "code",
   "execution_count": null,
   "id": "b939696f",
   "metadata": {},
   "outputs": [],
   "source": [
    "df.isnull().sum()"
   ]
  },
  {
   "cell_type": "markdown",
   "id": "f5fec725",
   "metadata": {},
   "source": [
    "## 3. Data Distribution and Outliers\n",
    "Visualizing numerical columns to understand distributions and detect outliers."
   ]
  },
  {
   "cell_type": "code",
   "execution_count": null,
   "id": "282fdaad",
   "metadata": {},
   "outputs": [],
   "source": [
    "import matplotlib.pyplot as plt\n",
    "import seaborn as sns\n",
    "\n",
    "# Plot distributions of key numerical metrics\n",
    "fig, axes = plt.subplots(2, 2, figsize=(12, 10))\n",
    "sns.histplot(df['ROI'], bins=30, kde=True, ax=axes[0, 0])\n",
    "axes[0, 0].set_title(\"ROI Distribution\")\n",
    "\n",
    "sns.histplot(df['Conversion_Rate'], bins=30, kde=True, ax=axes[0, 1])\n",
    "axes[0, 1].set_title(\"Conversion Rate Distribution\")\n",
    "\n",
    "sns.boxplot(x=df['Acquisition_Cost'], ax=axes[1, 0])\n",
    "axes[1, 0].set_title(\"Acquisition Cost Boxplot\")\n",
    "\n",
    "sns.boxplot(x=df['Clicks'], ax=axes[1, 1])\n",
    "axes[1, 1].set_title(\"Clicks Boxplot\")\n",
    "\n",
    "plt.tight_layout()\n",
    "plt.show()"
   ]
  },
  {
   "cell_type": "markdown",
   "id": "401c75d6",
   "metadata": {},
   "source": [
    "## 4. Campaign Performance Analysis\n",
    "Analyzing which campaigns performed best based on key metrics."
   ]
  },
  {
   "cell_type": "code",
   "execution_count": null,
   "id": "42040943",
   "metadata": {},
   "outputs": [],
   "source": [
    "# Top 10 campaigns by ROI\n",
    "top_campaigns = df[['Campaign_ID', 'Company', 'ROI', 'Channel_Used']].sort_values(by='ROI', ascending=False).head(10)\n",
    "top_campaigns"
   ]
  },
  {
   "cell_type": "code",
   "execution_count": null,
   "id": "c1f2a3f4",
   "metadata": {},
   "outputs": [],
   "source": [
    "# Campaign performance by marketing channel\n",
    "plt.figure(figsize=(12, 5))\n",
    "sns.boxplot(x='Channel_Used', y='ROI', data=df)\n",
    "plt.xticks(rotation=45)\n",
    "plt.title(\"ROI Distribution Across Marketing Channels\")\n",
    "plt.show()"
   ]
  },
  {
   "cell_type": "markdown",
   "id": "c8621abb",
   "metadata": {},
   "source": [
    "## 5. Click-Through Rate (CTR) and Cost Per Click (CPC) Analysis\n",
    "Evaluating the effectiveness of campaigns in driving engagement."
   ]
  },
  {
   "cell_type": "code",
   "execution_count": null,
   "id": "bfca3df6",
   "metadata": {},
   "outputs": [],
   "source": [
    "# Calculate CTR and CPC\n",
    "df['CTR'] = df['Clicks'] / df['Impressions']\n",
    "df['CPC'] = df['Acquisition_Cost'] / df['Clicks']\n",
    "\n",
    "# Plot CTR by channel\n",
    "plt.figure(figsize=(12, 5))\n",
    "sns.boxplot(x='Channel_Used', y='CTR', data=df)\n",
    "plt.xticks(rotation=45)\n",
    "plt.title(\"Click-Through Rate (CTR) Across Channels\")\n",
    "plt.show()"
   ]
  },
  {
   "cell_type": "markdown",
   "id": "ee736704",
   "metadata": {},
   "source": [
    "## 6. Location-Based Insights\n",
    "Understanding how marketing campaigns perform in different locations."
   ]
  },
  {
   "cell_type": "code",
   "execution_count": null,
   "id": "5e3833ca",
   "metadata": {},
   "outputs": [],
   "source": [
    "# Average ROI by location\n",
    "location_performance = df.groupby('Location')['ROI'].mean().sort_values(ascending=False).head(10)\n",
    "\n",
    "plt.figure(figsize=(12, 5))\n",
    "sns.barplot(x=location_performance.index, y=location_performance.values)\n",
    "plt.xticks(rotation=45)\n",
    "plt.title(\"Top 10 Locations by Average ROI\")\n",
    "plt.show()"
   ]
  },
  {
   "cell_type": "markdown",
   "id": "41179ecc",
   "metadata": {},
   "source": [
    "## Conclusion\n",
    "- The best-performing campaigns tend to have high ROI and low acquisition costs.\n",
    "- Google Ads and YouTube appear to have high ROI and CTR compared to other channels.\n",
    "- Some locations show significantly higher ROI, indicating better audience engagement.\n",
    "- Further analysis can explore time-based trends and audience segmentation for deeper insights."
   ]
  },
  {
   "cell_type": "markdown",
   "id": "3c6c3d22",
   "metadata": {},
   "source": [
    "## Insights & Inferences"
   ]
  },
  {
   "cell_type": "markdown",
   "id": "494447c5",
   "metadata": {},
   "source": [
    "### ROI and Conversion Rate Distributions\n",
    "- The ROI distribution is right-skewed, indicating that most campaigns have a moderate ROI, but a few campaigns perform exceptionally well.\n",
    "- The conversion rate distribution shows that while most campaigns convert at a low rate, a few campaigns achieve significantly higher conversion rates."
   ]
  },
  {
   "cell_type": "markdown",
   "id": "6061bc60",
   "metadata": {},
   "source": [
    "### Acquisition Cost and Clicks\n",
    "- The boxplot for acquisition cost suggests the presence of outliers, meaning some campaigns have significantly higher costs.\n",
    "- Clicks also exhibit a wide range, indicating varying levels of audience engagement across campaigns."
   ]
  },
  {
   "cell_type": "markdown",
   "id": "74ce29b9",
   "metadata": {},
   "source": [
    "### Campaign Performance by Channel\n",
    "- Google Ads and YouTube show relatively higher median ROI compared to other marketing channels.\n",
    "- Display ads appear to have a wider spread of ROI, meaning some campaigns perform well while others do not."
   ]
  },
  {
   "cell_type": "markdown",
   "id": "ac2c5bf9",
   "metadata": {},
   "source": [
    "### Click-Through Rate (CTR) and Cost Per Click (CPC)\n",
    "- CTR varies significantly across different channels, with some channels driving more engagement than others.\n",
    "- CPC analysis shows that lower CPC does not always correspond to higher ROI, indicating that campaign effectiveness depends on multiple factors."
   ]
  },
  {
   "cell_type": "markdown",
   "id": "b5ca0151",
   "metadata": {},
   "source": [
    "### Location-Based Insights\n",
    "- Some locations exhibit significantly higher ROI than others, suggesting that geographical targeting can influence campaign success.\n",
    "- Further analysis could help optimize location-based marketing strategies for improved performance."
   ]
  },
  {
   "cell_type": "markdown",
   "id": "ed28aad4",
   "metadata": {},
   "source": [
    "## Summary of Findings\n",
    "- High-performing campaigns share characteristics such as high CTR, moderate CPC, and well-targeted audiences.\n",
    "- Certain channels consistently outperform others, emphasizing the importance of strategic channel selection.\n",
    "- Location-based analysis reveals opportunities for geographic optimization of marketing efforts.\n",
    "- Additional deep dives into specific customer segments may provide further actionable insights for improving marketing efficiency."
   ]
  }
 ],
 "metadata": {
  "kernelspec": {
   "display_name": "Python 3 (ipykernel)",
   "language": "python",
   "name": "python3"
  },
  "language_info": {
   "codemirror_mode": {
    "name": "ipython",
    "version": 3
   },
   "file_extension": ".py",
   "mimetype": "text/x-python",
   "name": "python",
   "nbconvert_exporter": "python",
   "pygments_lexer": "ipython3",
   "version": "3.9.13"
  }
 },
 "nbformat": 4,
 "nbformat_minor": 2
}
